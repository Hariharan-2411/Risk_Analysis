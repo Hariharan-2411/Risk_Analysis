{
 "cells": [
  {
   "cell_type": "code",
   "execution_count": 1,
   "id": "09ec7537-ddda-420e-997b-ba349b88622e",
   "metadata": {},
   "outputs": [
    {
     "name": "stdout",
     "output_type": "stream",
     "text": [
      "Classification Report:\n",
      "              precision    recall  f1-score   support\n",
      "\n",
      "           0       0.80      0.93      0.86       125\n",
      "           1       0.97      0.91      0.94       308\n",
      "\n",
      "    accuracy                           0.91       433\n",
      "   macro avg       0.88      0.92      0.90       433\n",
      "weighted avg       0.92      0.91      0.91       433\n",
      "\n",
      "Confusion Matrix:\n"
     ]
    },
    {
     "data": {
      "image/png": "[encoded data removed]",
      "text/plain": [
       "<Figure size 800x600 with 2 Axes>"
      ]
     },
     "metadata": {},
     "output_type": "display_data"
    },
    {
     "name": "stdout",
     "output_type": "stream",
     "text": [
      "Accuracy of the model: 0.9122401847575058\n"
     ]
    }
   ],
   "source": [
    "import warnings\n",
    "warnings.filterwarnings(\"ignore\", category=UserWarning, module=\"xgboost\")\n",
    "warnings.filterwarnings(\"ignore\", category=FutureWarning)\n",
    "\n",
    "\n",
    "# Step 1: Import necessary libraries\n",
    "import pandas as pd\n",
    "from sklearn.model_selection import train_test_split, cross_val_score\n",
    "from sklearn.feature_extraction.text import TfidfVectorizer\n",
    "from xgboost import XGBClassifier\n",
    "from imblearn.over_sampling import SMOTE\n",
    "from sklearn.metrics import classification_report, confusion_matrix, accuracy_score\n",
    "import matplotlib.pyplot as plt\n",
    "import seaborn as sns\n",
    "\n",
    "# Step 2: Load the updated datasets (fake and real news content)\n",
    "fake_news_file_path = '/Users/hariharanduraisingh/Downloads/jupyter_notebook/CoAID/05-01-2020/NewsFakeCOVID-19.csv'\n",
    "real_news_file_path = '/Users/hariharanduraisingh/Downloads/jupyter_notebook/CoAID/05-01-2020/NewsRealCOVID-19.csv'\n",
    "\n",
    "fake_news_df = pd.read_csv(fake_news_file_path)\n",
    "real_news_df = pd.read_csv(real_news_file_path)\n",
    "\n",
    "# Step 3: Preprocessing the Data\n",
    "# Handle missing values by filling NaN entries in 'title' and 'content' columns with empty strings\n",
    "fake_news_df['title'] = fake_news_df['title'].fillna('')\n",
    "fake_news_df['content'] = fake_news_df['content'].fillna('')\n",
    "real_news_df['title'] = real_news_df['title'].fillna('')\n",
    "real_news_df['content'] = real_news_df['content'].fillna('')\n",
    "\n",
    "# Step 4: Extract features (title + content) and labels\n",
    "X_fake = fake_news_df['title'] + \" \" + fake_news_df['content']\n",
    "X_real = real_news_df['title'] + \" \" + real_news_df['content']\n",
    "\n",
    "y_fake = [0] * len(X_fake)  # Label fake news as 0\n",
    "y_real = [1] * len(X_real)  # Label real news as 1\n",
    "\n",
    "X = pd.concat([X_fake, X_real], ignore_index=True)  # Features (title + content)\n",
    "y = y_fake + y_real  # Labels (0 for fake, 1 for real)\n",
    "\n",
    "# Step 5: Split the dataset into training and testing sets (80% train, 20% test)\n",
    "X_train, X_test, y_train, y_test = train_test_split(X, y, test_size=0.2, random_state=42)\n",
    "\n",
    "# Step 6: Convert text data (title + content) into numerical data using TF-IDF Vectorizer (using n-grams)\n",
    "vectorizer = TfidfVectorizer(max_features=5000, stop_words='english', ngram_range=(1, 2))  # Using bigrams\n",
    "X_train_tfidf = vectorizer.fit_transform(X_train)\n",
    "X_test_tfidf = vectorizer.transform(X_test)\n",
    "\n",
    "# Step 7: Initialize XGBoost Classifier with the best parameters found\n",
    "xgb_classifier = XGBClassifier(\n",
    "    learning_rate=0.1,         \n",
    "    max_depth=3,               \n",
    "    n_estimators=400,          \n",
    "    subsample=1.0,             \n",
    "    min_child_weight=1,        \n",
    "    colsample_bytree=0.8,      \n",
    "    random_state=42, \n",
    "    eval_metric='mlogloss',    \n",
    "    use_label_encoder=False    \n",
    ")\n",
    "\n",
    "# Step 8: Apply SMOTE to balance the classes by oversampling the minority class\n",
    "smote = SMOTE(random_state=42)\n",
    "X_train_resampled, y_train_resampled = smote.fit_resample(X_train_tfidf, y_train)\n",
    "\n",
    "# Step 9: Train the XGBoost model\n",
    "xgb_classifier.fit(X_train_resampled, y_train_resampled)\n",
    "\n",
    "# Step 10: Predict on the test set\n",
    "y_pred = xgb_classifier.predict(X_test_tfidf)\n",
    "\n",
    "# Step 11: Print classification report and confusion matrix\n",
    "print(\"Classification Report:\")\n",
    "print(classification_report(y_test, y_pred))\n",
    "\n",
    "print(\"Confusion Matrix:\")\n",
    "cm = confusion_matrix(y_test, y_pred)\n",
    "\n",
    "# Visualizing confusion matrix\n",
    "plt.figure(figsize=(8, 6))\n",
    "sns.heatmap(cm, annot=True, fmt=\"d\", cmap='Blues', xticklabels=['Fake', 'Real'], yticklabels=['Fake', 'Real'])\n",
    "plt.title('Confusion Matrix - XGBoost')\n",
    "plt.xlabel('Predicted Label')\n",
    "plt.ylabel('True Label')\n",
    "plt.show()\n",
    "\n",
    "# Step 12: Accuracy of the model\n",
    "accuracy = accuracy_score(y_test, y_pred)\n",
    "print(f\"Accuracy of the model: {accuracy}\")\n"
   ]
  }
 ],
 "metadata": {
  "kernelspec": {
   "display_name": "Python 3 (ipykernel)",
   "language": "python",
   "name": "python3"
  },
  "language_info": {
   "codemirror_mode": {
    "name": "ipython",
    "version": 3
   },
   "file_extension": ".py",
   "mimetype": "text/x-python",
   "name": "python",
   "nbconvert_exporter": "python",
   "pygments_lexer": "ipython3",
   "version": "3.9.6"
  }
 },
 "nbformat": 4,
 "nbformat_minor": 5
}
