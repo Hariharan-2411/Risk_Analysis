{
 "cells": [
  {
   "cell_type": "code",
   "execution_count": 1,
   "id": "25ae9c2b-3705-433d-842c-6a44454ce19f",
   "metadata": {},
   "outputs": [
    {
     "name": "stdout",
     "output_type": "stream",
     "text": [
      "Total news 69836\n",
      "fake news engagement 5721\n",
      "real news engagement 64115\n",
      "total_fake_replies 5721\n",
      "num_fake_tweets 1266\n",
      "total_real_replies 64115\n",
      "num_real_tweets 13481\n",
      "Prior P(h): 0.08192049945586803\n",
      "Prior P(¬h): 0.918079500544132\n",
      "Likelihood P(e|h): 4.518957345971564\n",
      "Likelihood P(e|¬h): 4.755952822490913\n",
      "Marginal Likelihood P(e): 4.736538034685667\n",
      "Posterior P(h|e): 0.07815734616524023\n"
     ]
    }
   ],
   "source": [
    "import pandas as pd\n",
    "\n",
    "def bayesian_analysis_manual(fake_news_file, real_news_file):\n",
    "    # Load the data\n",
    "    fake_news_engagement_df = pd.read_csv(fake_news_file)\n",
    "    real_news_engagement_df = pd.read_csv(real_news_file)\n",
    "    \n",
    "    # Step 1: Calculate Prior Probabilities\n",
    "    total_news = len(fake_news_engagement_df) + len(real_news_engagement_df)\n",
    "    print (\"Total news\",total_news)\n",
    "    fake_news_proportion = len(fake_news_engagement_df) / total_news\n",
    "    print (\"fake news engagement\", len(fake_news_engagement_df))\n",
    "    real_news_proportion = len(real_news_engagement_df) / total_news\n",
    "    print (\"real news engagement\", len(real_news_engagement_df))\n",
    "\n",
    "    # Step 2: calculate the Likelihoods (Average replies for fake news tweets)\n",
    "    \n",
    "    # Count replies for each fake news tweet\n",
    "    fake_news_replies = fake_news_engagement_df.groupby('tweet_id').size()\n",
    "    total_fake_replies = fake_news_replies.sum()\n",
    "    print(\"total_fake_replies\",total_fake_replies)\n",
    "    num_fake_tweets = len(fake_news_replies)\n",
    "    print(\"num_fake_tweets\",num_fake_tweets)\n",
    "    avg_fake_news_replies_manual = total_fake_replies / num_fake_tweets \n",
    "\n",
    "    # Count replies for each real news tweet\n",
    "    real_news_replies = real_news_engagement_df.groupby('tweet_id').size()\n",
    "    total_real_replies = real_news_replies.sum()\n",
    "    print(\"total_real_replies\",total_real_replies)\n",
    "    num_real_tweets = len(real_news_replies)\n",
    "    print(\"num_real_tweets\",num_real_tweets)\n",
    "    avg_real_news_replies_manual = total_real_replies / num_real_tweets \n",
    "\n",
    "    # Step 3: Calculate Marginal Likelihood\n",
    "    P_e = (avg_fake_news_replies_manual * fake_news_proportion) + (avg_real_news_replies_manual * real_news_proportion)\n",
    "\n",
    "    # Step 4: Apply Bayes' Theorem to calculate P(h|e)\n",
    "    P_h_given_e = (avg_fake_news_replies_manual * fake_news_proportion) / P_e\n",
    "\n",
    "    # Return the results\n",
    "    return {\n",
    "        'Prior P(h)': fake_news_proportion,\n",
    "        'Prior P(¬h)': real_news_proportion,\n",
    "        'Likelihood P(e|h)': avg_fake_news_replies_manual,\n",
    "        'Likelihood P(e|¬h)': avg_real_news_replies_manual,\n",
    "        'Marginal Likelihood P(e)': P_e,\n",
    "        'Posterior P(h|e)': P_h_given_e\n",
    "    }\n",
    "\n",
    "fake_news_file_5jan = '/Users/hariharanduraisingh/Downloads/jupyter_notebook/CoAID/05-01-2020/NewsFakeCOVID-19_tweets_replies.csv'\n",
    "real_news_file_5jan = '/Users/hariharanduraisingh/Downloads/jupyter_notebook/CoAID/05-01-2020/NewsRealCOVID-19_tweets_replies.csv'\n",
    "\n",
    "results = bayesian_analysis_manual(fake_news_file_5jan, real_news_file_5jan)\n",
    "\n",
    "# Print the results\n",
    "for key, value in results.items():\n",
    "    print(f'{key}: {value}')\n"
   ]
  }
 ],
 "metadata": {
  "kernelspec": {
   "display_name": "Python 3 (ipykernel)",
   "language": "python",
   "name": "python3"
  },
  "language_info": {
   "codemirror_mode": {
    "name": "ipython",
    "version": 3
   },
   "file_extension": ".py",
   "mimetype": "text/x-python",
   "name": "python",
   "nbconvert_exporter": "python",
   "pygments_lexer": "ipython3",
   "version": "3.9.6"
  }
 },
 "nbformat": 4,
 "nbformat_minor": 5
}
